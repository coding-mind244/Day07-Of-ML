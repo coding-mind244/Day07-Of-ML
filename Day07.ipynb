{
 "cells": [
  {
   "cell_type": "code",
   "execution_count": 34,
   "id": "761a0b4f-f391-47a2-a8e0-c2bd9a8d7b23",
   "metadata": {},
   "outputs": [],
   "source": [
    "import numpy as np"
   ]
  },
  {
   "cell_type": "markdown",
   "id": "6299a005-d20a-416f-b489-b5f9f197202e",
   "metadata": {},
   "source": [
    "# Reshaping Numpy Arrays\n",
    "#### 1)Ravel\n",
    "#### 2)Reshape\n",
    "#### 3)Transpose\n",
    "#### 4)Stacking\n",
    "#### 5)Slipting"
   ]
  },
  {
   "cell_type": "markdown",
   "id": "a9a1106b-3a6f-4cd7-b3b9-f1447e27b9ac",
   "metadata": {},
   "source": [
    "# 1) Ravel is a function which converts the high dimension arrays such as (2D,3D,4D,100D) into 1D array."
   ]
  },
  {
   "cell_type": "code",
   "execution_count": 35,
   "id": "d2f26091-e6b8-494d-95ec-09bb3b12f488",
   "metadata": {},
   "outputs": [
    {
     "data": {
      "text/plain": [
       "array([[1, 2, 3],\n",
       "       [4, 5, 6],\n",
       "       [7, 8, 9]])"
      ]
     },
     "execution_count": 35,
     "metadata": {},
     "output_type": "execute_result"
    }
   ],
   "source": [
    "arr1 = np.array([[1,2,3],[4,5,6],[7,8,9]])\n",
    "arr1"
   ]
  },
  {
   "cell_type": "code",
   "execution_count": 36,
   "id": "942238ba-23f1-4ce6-8943-5e32ef88a4f8",
   "metadata": {},
   "outputs": [
    {
     "data": {
      "text/plain": [
       "array([1, 2, 3, 4, 5, 6, 7, 8, 9])"
      ]
     },
     "execution_count": 36,
     "metadata": {},
     "output_type": "execute_result"
    }
   ],
   "source": [
    "arr1.ravel()"
   ]
  },
  {
   "cell_type": "markdown",
   "id": "a4fe0c66-2565-42f1-a3ec-a7a6bd7a4df1",
   "metadata": {},
   "source": [
    "#### So, as you can see that in line number 6 arr1 is in 2D while in line number 7 the arr1 is in 1D."
   ]
  },
  {
   "cell_type": "markdown",
   "id": "ee75c637-cd8d-4978-8a53-e8d6b6ba77bc",
   "metadata": {},
   "source": [
    "# 1) Reshape, If a number have factor then it will works."
   ]
  },
  {
   "cell_type": "code",
   "execution_count": 37,
   "id": "68045f13-b4a0-470d-b155-5a0d9f75e4df",
   "metadata": {},
   "outputs": [
    {
     "data": {
      "text/plain": [
       "array([ 0,  1,  2,  3,  4,  5,  6,  7,  8,  9, 10, 11, 12, 13, 14, 15, 16,\n",
       "       17, 18, 19, 20, 21, 22, 23])"
      ]
     },
     "execution_count": 37,
     "metadata": {},
     "output_type": "execute_result"
    }
   ],
   "source": [
    "arr2 = np.arange(24)\n",
    "arr2"
   ]
  },
  {
   "cell_type": "code",
   "execution_count": 38,
   "id": "47af2945-2979-4e90-b232-d27fba1d8c56",
   "metadata": {},
   "outputs": [
    {
     "data": {
      "text/plain": [
       "array([[ 0,  1,  2,  3],\n",
       "       [ 4,  5,  6,  7],\n",
       "       [ 8,  9, 10, 11],\n",
       "       [12, 13, 14, 15],\n",
       "       [16, 17, 18, 19],\n",
       "       [20, 21, 22, 23]])"
      ]
     },
     "execution_count": 38,
     "metadata": {},
     "output_type": "execute_result"
    }
   ],
   "source": [
    "arr2.reshape(6,4)"
   ]
  },
  {
   "cell_type": "code",
   "execution_count": 39,
   "id": "9de962a5-420e-4ccb-b389-624aa235078f",
   "metadata": {},
   "outputs": [
    {
     "data": {
      "text/plain": [
       "array([[ 0,  1,  2,  3,  4,  5,  6,  7,  8,  9, 10, 11],\n",
       "       [12, 13, 14, 15, 16, 17, 18, 19, 20, 21, 22, 23]])"
      ]
     },
     "execution_count": 39,
     "metadata": {},
     "output_type": "execute_result"
    }
   ],
   "source": [
    "arr2.reshape(2,12)"
   ]
  },
  {
   "cell_type": "markdown",
   "id": "2ba4949e-0cc5-48c9-89ca-a3e4dd81821e",
   "metadata": {},
   "source": [
    "# 3) Transpose, Row into column and Column into rows."
   ]
  },
  {
   "cell_type": "code",
   "execution_count": 40,
   "id": "98c71030-f17f-4586-b735-fef6e03ac77d",
   "metadata": {},
   "outputs": [
    {
     "data": {
      "text/plain": [
       "array([[1, 2, 3],\n",
       "       [4, 5, 6],\n",
       "       [7, 8, 9]])"
      ]
     },
     "execution_count": 40,
     "metadata": {},
     "output_type": "execute_result"
    }
   ],
   "source": [
    "arr1"
   ]
  },
  {
   "cell_type": "code",
   "execution_count": 41,
   "id": "fecf5ed3-450f-463d-96e2-283b9ab80023",
   "metadata": {},
   "outputs": [
    {
     "data": {
      "text/plain": [
       "array([[1, 4, 7],\n",
       "       [2, 5, 8],\n",
       "       [3, 6, 9]])"
      ]
     },
     "execution_count": 41,
     "metadata": {},
     "output_type": "execute_result"
    }
   ],
   "source": [
    "arr1.transpose()"
   ]
  },
  {
   "cell_type": "code",
   "execution_count": 42,
   "id": "c5762a62-509e-4528-8609-176cfc3804b3",
   "metadata": {},
   "outputs": [
    {
     "data": {
      "text/plain": [
       "array([[1, 2, 3],\n",
       "       [4, 5, 6]])"
      ]
     },
     "execution_count": 42,
     "metadata": {},
     "output_type": "execute_result"
    }
   ],
   "source": [
    "arr3 = np.array([[1,2,3],[4,5,6]])\n",
    "arr3"
   ]
  },
  {
   "cell_type": "code",
   "execution_count": 43,
   "id": "4c7bd789-750c-42b9-a8ca-cb00b0f9a690",
   "metadata": {},
   "outputs": [
    {
     "data": {
      "text/plain": [
       "array([[1, 4],\n",
       "       [2, 5],\n",
       "       [3, 6]])"
      ]
     },
     "execution_count": 43,
     "metadata": {},
     "output_type": "execute_result"
    }
   ],
   "source": [
    "arr3.transpose()"
   ]
  },
  {
   "cell_type": "markdown",
   "id": "185f09c8-f8fb-48e2-b539-7547f7551d3d",
   "metadata": {},
   "source": [
    "# 4) Stacking is a track through which we can merge two arrays.\n",
    "### Note: Remeber both arrays have the same number of columns and rows."
   ]
  },
  {
   "cell_type": "code",
   "execution_count": 44,
   "id": "3b4754c7-b833-4376-994d-f830a186e69a",
   "metadata": {},
   "outputs": [],
   "source": [
    "arr4 = np.array([[8,9,10],[11,12,13]])"
   ]
  },
  {
   "cell_type": "code",
   "execution_count": 45,
   "id": "6dada130-705b-4911-a3c6-b07c904367fc",
   "metadata": {},
   "outputs": [],
   "source": [
    "arr5 = np.arange(14,20).reshape(2,3)"
   ]
  },
  {
   "cell_type": "code",
   "execution_count": 46,
   "id": "772b4a90-d5f1-457c-8ac1-7bf75a96eb97",
   "metadata": {},
   "outputs": [
    {
     "data": {
      "text/plain": [
       "array([[ 8,  9, 10, 14, 15, 16],\n",
       "       [11, 12, 13, 17, 18, 19]])"
      ]
     },
     "execution_count": 46,
     "metadata": {},
     "output_type": "execute_result"
    }
   ],
   "source": [
    "np.hstack((arr4,arr5))"
   ]
  },
  {
   "cell_type": "markdown",
   "id": "a12f693b-6f4e-41b1-9903-231c019fd8f3",
   "metadata": {},
   "source": [
    "### The above hstack combine the array horizontaly.However vstack combine the array vertically."
   ]
  },
  {
   "cell_type": "code",
   "execution_count": 47,
   "id": "6f5a50dd-8ac1-49e6-b174-bf175684639d",
   "metadata": {},
   "outputs": [
    {
     "data": {
      "text/plain": [
       "array([[ 8,  9, 10],\n",
       "       [11, 12, 13],\n",
       "       [14, 15, 16],\n",
       "       [17, 18, 19]])"
      ]
     },
     "execution_count": 47,
     "metadata": {},
     "output_type": "execute_result"
    }
   ],
   "source": [
    "np.vstack((arr4,arr5))"
   ]
  },
  {
   "cell_type": "markdown",
   "id": "5f5869f9-f0e7-42c8-a8e2-0498c0e12726",
   "metadata": {},
   "source": [
    "# 5) Spliting is use for to separate the array"
   ]
  },
  {
   "cell_type": "code",
   "execution_count": 49,
   "id": "f5693d9e-8b3c-4bdf-b4c7-7ce077759e54",
   "metadata": {},
   "outputs": [
    {
     "data": {
      "text/plain": [
       "[array([[14, 15, 16]]), array([[17, 18, 19]])]"
      ]
     },
     "execution_count": 49,
     "metadata": {},
     "output_type": "execute_result"
    }
   ],
   "source": [
    "np.vsplit(arr5,2)"
   ]
  },
  {
   "cell_type": "code",
   "execution_count": null,
   "id": "69b40ce7-a05b-4d8d-855b-92f2df2d2238",
   "metadata": {},
   "outputs": [],
   "source": []
  }
 ],
 "metadata": {
  "kernelspec": {
   "display_name": "Python 3 (ipykernel)",
   "language": "python",
   "name": "python3"
  },
  "language_info": {
   "codemirror_mode": {
    "name": "ipython",
    "version": 3
   },
   "file_extension": ".py",
   "mimetype": "text/x-python",
   "name": "python",
   "nbconvert_exporter": "python",
   "pygments_lexer": "ipython3",
   "version": "3.12.7"
  }
 },
 "nbformat": 4,
 "nbformat_minor": 5
}
